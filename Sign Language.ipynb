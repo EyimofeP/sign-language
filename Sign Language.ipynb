{
 "cells": [
  {
   "cell_type": "markdown",
   "id": "b7207012",
   "metadata": {},
   "source": [
    "## Import Necessary Modules"
   ]
  },
  {
   "cell_type": "code",
   "execution_count": 2,
   "id": "9e6f6d43",
   "metadata": {},
   "outputs": [],
   "source": [
    "import tensorflow as tf  # import deep learning libraries\n",
    "from tensorflow import keras\n",
    "from tensorflow.keras import layers\n",
    "\n",
    "\n",
    "import matplotlib.pyplot as plt\n",
    "import numpy as np"
   ]
  },
  {
   "cell_type": "markdown",
   "id": "ee56e36e",
   "metadata": {},
   "source": [
    "### Load the Dataset"
   ]
  },
  {
   "cell_type": "code",
   "execution_count": 3,
   "id": "eb8c9888",
   "metadata": {},
   "outputs": [],
   "source": [
    "X = np.load(\"data/X.npy\") \n",
    "y = np.load(\"data/Y.npy\")"
   ]
  },
  {
   "cell_type": "code",
   "execution_count": 4,
   "id": "0580a64c",
   "metadata": {},
   "outputs": [
    {
     "name": "stdout",
     "output_type": "stream",
     "text": [
      "(2062, 64, 64)\n",
      "(2062, 10)\n"
     ]
    }
   ],
   "source": [
    "print(X.shape) # 64 * 64 pixel with 1 (greyscale)\n",
    "print(y.shape)"
   ]
  },
  {
   "cell_type": "markdown",
   "id": "cc75a95f",
   "metadata": {},
   "source": [
    "Let's take a look at some of the examples"
   ]
  },
  {
   "attachments": {},
   "cell_type": "markdown",
   "id": "992b7136",
   "metadata": {},
   "source": [
    "Distribution of Hand-Sign Numbers by Image index\n",
    "___\n",
    "1855 - 2061: 5\n",
    "\n",
    "1649 - 1854: 2\n",
    "\n",
    "1443 - 1648: 3 \n",
    "\n",
    "1236 - 1442: 4\n",
    "\n",
    "1028 - 1235: 8\n",
    "\n",
    "822 - 1027: 1\n",
    "\n",
    "615 - 821: 6\n",
    "\n",
    "409 - 614: 7\n",
    "\n",
    "204 - 408: 0\n",
    "\n",
    "0 - 203: 9"
   ]
  },
  {
   "cell_type": "markdown",
   "id": "c5af1fca",
   "metadata": {},
   "source": [
    "Display Image"
   ]
  },
  {
   "cell_type": "code",
   "execution_count": 5,
   "id": "35a432bc",
   "metadata": {},
   "outputs": [
    {
     "data": {
      "text/plain": [
       "(-0.5, 63.5, 63.5, -0.5)"
      ]
     },
     "execution_count": 5,
     "metadata": {},
     "output_type": "execute_result"
    },
    {
     "data": {
      "image/png": "[encoded data removed]",
      "text/plain": [
       "<Figure size 640x480 with 2 Axes>"
      ]
     },
     "metadata": {},
     "output_type": "display_data"
    }
   ],
   "source": [
    "plt.subplot(1,2,1)\n",
    "plt.imshow(X[209])\n",
    "plt.axis(\"off\")\n",
    "\n",
    "plt.subplot(1,2,2)\n",
    "plt.imshow(X[9])\n",
    "plt.axis(\"off\")"
   ]
  },
  {
   "attachments": {},
   "cell_type": "markdown",
   "id": "f2abbeff",
   "metadata": {},
   "source": [
    "### Data Split"
   ]
  },
  {
   "cell_type": "code",
   "execution_count": 6,
   "id": "bf9ee671",
   "metadata": {},
   "outputs": [],
   "source": [
    "from sklearn.model_selection import train_test_split\n",
    "X_train, X_test, y_train, y_test = train_test_split(X, y, random_state=87, test_size=0.2)"
   ]
  },
  {
   "cell_type": "code",
   "execution_count": 7,
   "id": "fdbb6c7d",
   "metadata": {},
   "outputs": [
    {
     "data": {
      "text/plain": [
       "((1649, 64, 64), (413, 64, 64))"
      ]
     },
     "execution_count": 7,
     "metadata": {},
     "output_type": "execute_result"
    }
   ],
   "source": [
    "X_train.shape, X_test.shape"
   ]
  },
  {
   "cell_type": "markdown",
   "id": "91ac97d4",
   "metadata": {},
   "source": [
    "### Data Preprocessing"
   ]
  },
  {
   "cell_type": "code",
   "execution_count": 8,
   "id": "9a46bafb",
   "metadata": {},
   "outputs": [],
   "source": [
    "# flatten the data to a single 4096 array\n",
    "X_train = X_train.reshape(len(X_train), 64 * 64)\n",
    "X_test = X_test.reshape(len(X_test), 64 * 64)"
   ]
  },
  {
   "cell_type": "code",
   "execution_count": 9,
   "id": "ac9306d8",
   "metadata": {},
   "outputs": [],
   "source": [
    "# converting from one hot encoded values to single digits\n",
    "y_train = np.array([value.argmax() for value in y_train])\n",
    "y_test = np.array([value.argmax() for value in y_test])"
   ]
  },
  {
   "cell_type": "markdown",
   "id": "14d23274",
   "metadata": {},
   "source": [
    "No normalization will be performed as data seems to be normalized already"
   ]
  },
  {
   "attachments": {},
   "cell_type": "markdown",
   "id": "08109f9d",
   "metadata": {},
   "source": [
    "### ANN"
   ]
  },
  {
   "cell_type": "code",
   "execution_count": 10,
   "id": "4396ea0e",
   "metadata": {},
   "outputs": [],
   "source": [
    "model = keras.Sequential([\n",
    "    layers.Dense(10, input_shape=(4096,), activation = \"softmax\")\n",
    "])\n",
    "model.compile(\n",
    "optimizer = \"adam\",\n",
    "    loss = \"sparse_categorical_crossentropy\",\n",
    "    metrics = [\"accuracy\"]\n",
    ")"
   ]
  },
  {
   "cell_type": "markdown",
   "id": "461ec549",
   "metadata": {},
   "source": [
    "### Training the Model"
   ]
  },
  {
   "cell_type": "code",
   "execution_count": 11,
   "id": "cedc104a",
   "metadata": {
    "scrolled": true
   },
   "outputs": [
    {
     "name": "stdout",
     "output_type": "stream",
     "text": [
      "Epoch 1/10\n",
      "52/52 [==============================] - 1s 3ms/step - loss: 2.5141 - accuracy: 0.1698\n",
      "Epoch 2/10\n",
      "52/52 [==============================] - 0s 3ms/step - loss: 2.0201 - accuracy: 0.3099\n",
      "Epoch 3/10\n",
      "52/52 [==============================] - 0s 1ms/step - loss: 1.7871 - accuracy: 0.3972\n",
      "Epoch 4/10\n",
      "52/52 [==============================] - 0s 1ms/step - loss: 1.6008 - accuracy: 0.4821\n",
      "Epoch 5/10\n",
      "52/52 [==============================] - 0s 1ms/step - loss: 1.4386 - accuracy: 0.5403\n",
      "Epoch 6/10\n",
      "52/52 [==============================] - 0s 2ms/step - loss: 1.4421 - accuracy: 0.5531\n",
      "Epoch 7/10\n",
      "52/52 [==============================] - 0s 1ms/step - loss: 1.3424 - accuracy: 0.5779\n",
      "Epoch 8/10\n",
      "52/52 [==============================] - 0s 2ms/step - loss: 1.3075 - accuracy: 0.5713\n",
      "Epoch 9/10\n",
      "52/52 [==============================] - 0s 2ms/step - loss: 1.1977 - accuracy: 0.6137\n",
      "Epoch 10/10\n",
      "52/52 [==============================] - 0s 1ms/step - loss: 1.1431 - accuracy: 0.6392\n"
     ]
    },
    {
     "data": {
      "text/plain": [
       "<keras.callbacks.History at 0x27035360760>"
      ]
     },
     "execution_count": 11,
     "metadata": {},
     "output_type": "execute_result"
    }
   ],
   "source": [
    "model.fit(X_train, y_train, epochs=10)"
   ]
  },
  {
   "cell_type": "markdown",
   "id": "5d2db37f",
   "metadata": {},
   "source": [
    "### Testing the Model"
   ]
  },
  {
   "cell_type": "code",
   "execution_count": 12,
   "id": "b21405ea",
   "metadata": {
    "scrolled": true
   },
   "outputs": [
    {
     "name": "stdout",
     "output_type": "stream",
     "text": [
      "13/13 [==============================] - 0s 1ms/step\n"
     ]
    },
    {
     "data": {
      "text/plain": [
       "7"
      ]
     },
     "execution_count": 12,
     "metadata": {},
     "output_type": "execute_result"
    }
   ],
   "source": [
    "y_predicted = model.predict(X_test)\n",
    "y_predicted[0].argmax()"
   ]
  },
  {
   "cell_type": "markdown",
   "id": "da89e44e",
   "metadata": {},
   "source": [
    "### Model Evaluation"
   ]
  },
  {
   "cell_type": "code",
   "execution_count": 13,
   "id": "38760849",
   "metadata": {},
   "outputs": [],
   "source": [
    "import seaborn as sns\n",
    "from sklearn.metrics import confusion_matrix, classification_report"
   ]
  },
  {
   "cell_type": "code",
   "execution_count": 14,
   "id": "4f10f6eb",
   "metadata": {},
   "outputs": [
    {
     "name": "stdout",
     "output_type": "stream",
     "text": [
      "13/13 [==============================] - 0s 1ms/step\n"
     ]
    }
   ],
   "source": [
    "predictions = model.predict(X_test)\n",
    "predictions = [value.argmax() for value in predictions]"
   ]
  },
  {
   "cell_type": "code",
   "execution_count": 15,
   "id": "71e7bc5e",
   "metadata": {},
   "outputs": [
    {
     "name": "stdout",
     "output_type": "stream",
     "text": [
      "13/13 [==============================] - 0s 1ms/step - loss: 1.0805 - accuracy: 0.6659\n"
     ]
    },
    {
     "data": {
      "text/plain": [
       "[1.0804518461227417, 0.665859580039978]"
      ]
     },
     "execution_count": 15,
     "metadata": {},
     "output_type": "execute_result"
    }
   ],
   "source": [
    "model.evaluate(X_test, y_test)"
   ]
  },
  {
   "cell_type": "code",
   "execution_count": 16,
   "id": "1b8b153f",
   "metadata": {
    "scrolled": true
   },
   "outputs": [
    {
     "data": {
      "text/plain": [
       "<AxesSubplot:>"
      ]
     },
     "execution_count": 16,
     "metadata": {},
     "output_type": "execute_result"
    },
    {
     "data": {
      "image/png": "[encoded data removed]",
      "text/plain": [
       "<Figure size 640x480 with 2 Axes>"
      ]
     },
     "metadata": {},
     "output_type": "display_data"
    }
   ],
   "source": [
    "sns.heatmap(confusion_matrix(y_test, predictions), annot = True)"
   ]
  },
  {
   "cell_type": "code",
   "execution_count": 17,
   "id": "43e12095",
   "metadata": {},
   "outputs": [
    {
     "name": "stdout",
     "output_type": "stream",
     "text": [
      "              precision    recall  f1-score   support\n",
      "\n",
      "           0       0.48      1.00      0.65        30\n",
      "           1       0.75      0.94      0.83        47\n",
      "           2       0.69      0.63      0.66        35\n",
      "           3       0.39      0.81      0.53        37\n",
      "           4       0.81      0.78      0.79        37\n",
      "           5       0.85      0.65      0.74        52\n",
      "           6       0.60      0.08      0.14        38\n",
      "           7       0.81      0.80      0.80        44\n",
      "           8       0.80      0.24      0.38        49\n",
      "           9       0.82      0.82      0.82        44\n",
      "\n",
      "    accuracy                           0.67       413\n",
      "   macro avg       0.70      0.68      0.63       413\n",
      "weighted avg       0.72      0.67      0.64       413\n",
      "\n"
     ]
    }
   ],
   "source": [
    "print(classification_report(y_test, predictions))"
   ]
  },
  {
   "attachments": {},
   "cell_type": "markdown",
   "id": "c19b9045",
   "metadata": {},
   "source": [
    "### CNN"
   ]
  },
  {
   "cell_type": "code",
   "execution_count": 18,
   "id": "a6b5498e",
   "metadata": {},
   "outputs": [],
   "source": [
    "# converting back to 64 * 64 pixels\n",
    "X_train = X_train.reshape(len(X_train), 64 , 64)\n",
    "X_test = X_test.reshape(len(X_test), 64 , 64)"
   ]
  },
  {
   "cell_type": "code",
   "execution_count": 19,
   "id": "f6cfc502",
   "metadata": {},
   "outputs": [],
   "source": [
    "model = keras.Sequential([\n",
    "    layers.Conv2D(32, (4, 4), activation=\"relu\", input_shape=(64, 64, 1), ),\n",
    "    layers.MaxPool2D((2, 2)),\n",
    "    layers.Conv2D(64, (4, 4), activation=\"relu\", ),\n",
    "    layers.MaxPool2D((2, 2)),\n",
    "    # layers.Dropout(0.5),\n",
    "    layers.Flatten(),\n",
    "    layers.Dense(64, activation=\"relu\"),\n",
    "    layers.Dense(10, activation = \"softmax\")\n",
    "])\n",
    "model.compile(\n",
    "optimizer = \"rmsprop\",\n",
    "    loss = \"sparse_categorical_crossentropy\",\n",
    "    metrics = [\"accuracy\"]\n",
    ")"
   ]
  },
  {
   "cell_type": "markdown",
   "id": "7b9571ee",
   "metadata": {},
   "source": [
    "### Training the Model"
   ]
  },
  {
   "cell_type": "code",
   "execution_count": 20,
   "id": "adde1faf",
   "metadata": {},
   "outputs": [
    {
     "name": "stdout",
     "output_type": "stream",
     "text": [
      "Epoch 1/20\n",
      "26/26 [==============================] - 5s 166ms/step - loss: 2.3113 - accuracy: 0.1431\n",
      "Epoch 2/20\n",
      "26/26 [==============================] - 4s 169ms/step - loss: 1.7747 - accuracy: 0.4300\n",
      "Epoch 3/20\n",
      "26/26 [==============================] - 4s 153ms/step - loss: 1.1362 - accuracy: 0.6446\n",
      "Epoch 4/20\n",
      "26/26 [==============================] - 5s 179ms/step - loss: 0.8705 - accuracy: 0.7198\n",
      "Epoch 5/20\n",
      "26/26 [==============================] - 6s 245ms/step - loss: 0.7187 - accuracy: 0.7671\n",
      "Epoch 6/20\n",
      "26/26 [==============================] - 6s 244ms/step - loss: 0.6430 - accuracy: 0.7896\n",
      "Epoch 7/20\n",
      "26/26 [==============================] - 6s 237ms/step - loss: 0.5386 - accuracy: 0.8302\n",
      "Epoch 8/20\n",
      "26/26 [==============================] - 6s 233ms/step - loss: 0.4823 - accuracy: 0.8399\n",
      "Epoch 9/20\n",
      "26/26 [==============================] - 6s 233ms/step - loss: 0.3723 - accuracy: 0.8757\n",
      "Epoch 10/20\n",
      "26/26 [==============================] - 6s 212ms/step - loss: 0.3279 - accuracy: 0.8951\n",
      "Epoch 11/20\n",
      "26/26 [==============================] - 6s 229ms/step - loss: 0.2682 - accuracy: 0.9181\n",
      "Epoch 12/20\n",
      "26/26 [==============================] - 6s 214ms/step - loss: 0.2229 - accuracy: 0.9321\n",
      "Epoch 13/20\n",
      "26/26 [==============================] - 5s 207ms/step - loss: 0.2035 - accuracy: 0.9436\n",
      "Epoch 14/20\n",
      "26/26 [==============================] - 5s 208ms/step - loss: 0.1352 - accuracy: 0.9624\n",
      "Epoch 15/20\n",
      "26/26 [==============================] - 6s 219ms/step - loss: 0.1283 - accuracy: 0.9630\n",
      "Epoch 16/20\n",
      "26/26 [==============================] - 6s 218ms/step - loss: 0.0956 - accuracy: 0.9739\n",
      "Epoch 17/20\n",
      "26/26 [==============================] - 6s 220ms/step - loss: 0.0920 - accuracy: 0.9715\n",
      "Epoch 18/20\n",
      "26/26 [==============================] - 6s 219ms/step - loss: 0.0660 - accuracy: 0.9800\n",
      "Epoch 19/20\n",
      "26/26 [==============================] - 5s 207ms/step - loss: 0.0497 - accuracy: 0.9873\n",
      "Epoch 20/20\n",
      "26/26 [==============================] - 6s 212ms/step - loss: 0.0369 - accuracy: 0.9933\n"
     ]
    },
    {
     "data": {
      "text/plain": [
       "<keras.callbacks.History at 0x270379ca850>"
      ]
     },
     "execution_count": 20,
     "metadata": {},
     "output_type": "execute_result"
    }
   ],
   "source": [
    "model.fit(X_train, y_train, epochs= 20, batch_size=64)"
   ]
  },
  {
   "cell_type": "markdown",
   "id": "7bd91948",
   "metadata": {},
   "source": [
    "### Model Evaluation"
   ]
  },
  {
   "cell_type": "code",
   "execution_count": 21,
   "id": "9b068a07",
   "metadata": {},
   "outputs": [
    {
     "name": "stdout",
     "output_type": "stream",
     "text": [
      "13/13 [==============================] - 1s 30ms/step - loss: 0.3842 - accuracy: 0.8741\n"
     ]
    },
    {
     "data": {
      "text/plain": [
       "[0.3842126429080963, 0.8740919828414917]"
      ]
     },
     "execution_count": 21,
     "metadata": {},
     "output_type": "execute_result"
    }
   ],
   "source": [
    "model.evaluate(X_test, y_test)"
   ]
  },
  {
   "cell_type": "code",
   "execution_count": 22,
   "id": "4d66d02d",
   "metadata": {},
   "outputs": [
    {
     "name": "stdout",
     "output_type": "stream",
     "text": [
      "13/13 [==============================] - 0s 28ms/step\n"
     ]
    }
   ],
   "source": [
    "predictions = model.predict(X_test)\n",
    "predictions = [value.argmax() for value in predictions]"
   ]
  },
  {
   "cell_type": "code",
   "execution_count": 23,
   "id": "d0e9a566",
   "metadata": {},
   "outputs": [
    {
     "data": {
      "text/plain": [
       "<AxesSubplot:>"
      ]
     },
     "execution_count": 23,
     "metadata": {},
     "output_type": "execute_result"
    },
    {
     "data": {
      "image/png": "[encoded data removed]",
      "text/plain": [
       "<Figure size 640x480 with 2 Axes>"
      ]
     },
     "metadata": {},
     "output_type": "display_data"
    }
   ],
   "source": [
    "sns.heatmap(confusion_matrix(y_test, predictions), annot = True)"
   ]
  },
  {
   "cell_type": "code",
   "execution_count": 24,
   "id": "99337577",
   "metadata": {},
   "outputs": [
    {
     "name": "stdout",
     "output_type": "stream",
     "text": [
      "              precision    recall  f1-score   support\n",
      "\n",
      "           0       0.90      0.93      0.92        30\n",
      "           1       1.00      0.98      0.99        47\n",
      "           2       0.85      0.66      0.74        35\n",
      "           3       1.00      0.51      0.68        37\n",
      "           4       0.95      0.95      0.95        37\n",
      "           5       1.00      0.87      0.93        52\n",
      "           6       0.51      0.95      0.67        38\n",
      "           7       0.93      0.95      0.94        44\n",
      "           8       0.88      0.92      0.90        49\n",
      "           9       1.00      0.95      0.98        44\n",
      "\n",
      "    accuracy                           0.87       413\n",
      "   macro avg       0.90      0.87      0.87       413\n",
      "weighted avg       0.91      0.87      0.88       413\n",
      "\n"
     ]
    }
   ],
   "source": [
    "print(classification_report(y_test, predictions))"
   ]
  }
 ],
 "metadata": {
  "kernelspec": {
   "display_name": "Python 3 (ipykernel)",
   "language": "python",
   "name": "python3"
  },
  "language_info": {
   "codemirror_mode": {
    "name": "ipython",
    "version": 3
   },
   "file_extension": ".py",
   "mimetype": "text/x-python",
   "name": "python",
   "nbconvert_exporter": "python",
   "pygments_lexer": "ipython3",
   "version": "3.9.13"
  }
 },
 "nbformat": 4,
 "nbformat_minor": 5
}
